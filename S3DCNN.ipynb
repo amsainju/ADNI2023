{
 "cells": [
  {
   "cell_type": "code",
   "execution_count": 1,
   "id": "4623f250-b580-4386-9616-e00acbb6bdf0",
   "metadata": {},
   "outputs": [
    {
     "name": "stdout",
     "output_type": "stream",
     "text": [
      "Init Plugin\n",
      "Init Graph Optimizer\n",
      "Init Kernel\n"
     ]
    }
   ],
   "source": [
    "import tensorflow as tf\n",
    "from keras.models import Model\n",
    "from keras.layers import Activation, Input, concatenate, BatchNormalization \n",
    "from keras.layers import Conv3D, UpSampling3D, Conv3DTranspose, MaxPooling3D,AveragePooling3D,GlobalAveragePooling3D, MaxPooling2D, GlobalAveragePooling2D, Conv2D\n",
    "from keras.layers import add\n",
    "from keras.layers import LeakyReLU, Reshape, Lambda\n",
    "from keras.initializers import RandomNormal\n",
    "from keras.layers import Flatten\n",
    "from keras.layers import Dense\n",
    "from tensorflow import keras\n",
    "import numpy as np\n",
    "import os "
   ]
  },
  {
   "attachments": {},
   "cell_type": "markdown",
   "id": "3aab916c",
   "metadata": {},
   "source": [
    "## 3D CNN "
   ]
  },
  {
   "cell_type": "code",
   "execution_count": 8,
   "id": "078e19ba-571d-4bb4-a404-49a3878366e2",
   "metadata": {},
   "outputs": [],
   "source": [
    "\n",
    "def myConv3D(x_in, nf, strides=1, kernel_size = 3):\n",
    "    \"\"\"\n",
    "    specific convolution module including convolution followed by leakyrelu\n",
    "    \"\"\"\n",
    "    x_out = Conv3D(nf, kernel_size=3, padding='same',kernel_initializer='he_normal', strides=strides)(x_in)\n",
    "    x_out = BatchNormalization()(x_out)\n",
    "    x_out = LeakyReLU(0.2)(x_out)\n",
    "    return x_out\n",
    "\n",
    "\n",
    "def S3D_CNN(vol_size):\n",
    "    print(vol_size)\n",
    "    inputs = Input(shape=vol_size)\n",
    "    layer = myConv3D(inputs, nf = 32)  \n",
    "    layer = MaxPooling3D(pool_size= (3,3,3),strides=2)(layer)\n",
    "    layer = myConv3D(layer, nf =128)\n",
    "    layer = MaxPooling3D(pool_size= (3,3,3),strides=2)(layer)  \n",
    "    layer = myConv3D(layer, nf= 256)\n",
    "    layer = MaxPooling3D(pool_size= (3,3,3),strides=2)(layer) \n",
    "    layer = myConv3D(layer, nf= 512)\n",
    "    layer = MaxPooling3D(pool_size= (5,5,5),strides=2)(layer)\n",
    "    layer = GlobalAveragePooling3D()(layer)\n",
    "    layer = Dense(512, activation='relu')(layer)\n",
    "    layer = Dense(128, activation='relu')(layer)\n",
    "    layer = Dense(64, activation='relu')(layer)\n",
    "    x = Dense(1,activation=\"sigmoid\")(layer)\n",
    "    #x = Activation('sigmoid')(layer)\n",
    "   # x = Activation('softmax', name='softmax')(layer)\n",
    "        \n",
    "    model = Model(inputs=[inputs], outputs=[x])\n",
    "    return model\n"
   ]
  },
  {
   "cell_type": "code",
   "execution_count": 3,
   "id": "5b776c88-dd08-417d-9ce7-a20db9ddaaee",
   "metadata": {},
   "outputs": [
    {
     "name": "stdout",
     "output_type": "stream",
     "text": [
      "(128, 128, 128, 1)\n",
      "Metal device set to: Apple M1\n",
      "\n",
      "systemMemory: 16.00 GB\n",
      "maxCacheSize: 5.33 GB\n",
      "\n"
     ]
    },
    {
     "name": "stderr",
     "output_type": "stream",
     "text": [
      "2023-03-24 14:54:20.360168: I tensorflow/core/common_runtime/pluggable_device/pluggable_device_factory.cc:305] Could not identify NUMA node of platform GPU ID 0, defaulting to 0. Your kernel may not have been built with NUMA support.\n",
      "2023-03-24 14:54:20.360418: I tensorflow/core/common_runtime/pluggable_device/pluggable_device_factory.cc:271] Created TensorFlow device (/job:localhost/replica:0/task:0/device:GPU:0 with 0 MB memory) -> physical PluggableDevice (device: 0, name: METAL, pci bus id: <undefined>)\n"
     ]
    },
    {
     "name": "stdout",
     "output_type": "stream",
     "text": [
      "Model: \"model\"\n",
      "_________________________________________________________________\n",
      "Layer (type)                 Output Shape              Param #   \n",
      "=================================================================\n",
      "input_1 (InputLayer)         [(None, 128, 128, 128, 1) 0         \n",
      "_________________________________________________________________\n",
      "conv3d (Conv3D)              (None, 128, 128, 128, 32) 896       \n",
      "_________________________________________________________________\n",
      "batch_normalization (BatchNo (None, 128, 128, 128, 32) 128       \n",
      "_________________________________________________________________\n",
      "leaky_re_lu (LeakyReLU)      (None, 128, 128, 128, 32) 0         \n",
      "_________________________________________________________________\n",
      "max_pooling3d (MaxPooling3D) (None, 63, 63, 63, 32)    0         \n",
      "_________________________________________________________________\n",
      "conv3d_1 (Conv3D)            (None, 63, 63, 63, 128)   110720    \n",
      "_________________________________________________________________\n",
      "batch_normalization_1 (Batch (None, 63, 63, 63, 128)   512       \n",
      "_________________________________________________________________\n",
      "leaky_re_lu_1 (LeakyReLU)    (None, 63, 63, 63, 128)   0         \n",
      "_________________________________________________________________\n",
      "max_pooling3d_1 (MaxPooling3 (None, 31, 31, 31, 128)   0         \n",
      "_________________________________________________________________\n",
      "conv3d_2 (Conv3D)            (None, 31, 31, 31, 256)   884992    \n",
      "_________________________________________________________________\n",
      "batch_normalization_2 (Batch (None, 31, 31, 31, 256)   1024      \n",
      "_________________________________________________________________\n",
      "leaky_re_lu_2 (LeakyReLU)    (None, 31, 31, 31, 256)   0         \n",
      "_________________________________________________________________\n",
      "max_pooling3d_2 (MaxPooling3 (None, 15, 15, 15, 256)   0         \n",
      "_________________________________________________________________\n",
      "conv3d_3 (Conv3D)            (None, 15, 15, 15, 512)   3539456   \n",
      "_________________________________________________________________\n",
      "batch_normalization_3 (Batch (None, 15, 15, 15, 512)   2048      \n",
      "_________________________________________________________________\n",
      "leaky_re_lu_3 (LeakyReLU)    (None, 15, 15, 15, 512)   0         \n",
      "_________________________________________________________________\n",
      "max_pooling3d_3 (MaxPooling3 (None, 6, 6, 6, 512)      0         \n",
      "_________________________________________________________________\n",
      "global_average_pooling3d (Gl (None, 512)               0         \n",
      "_________________________________________________________________\n",
      "dense (Dense)                (None, 512)               262656    \n",
      "_________________________________________________________________\n",
      "dense_1 (Dense)              (None, 128)               65664     \n",
      "_________________________________________________________________\n",
      "dense_2 (Dense)              (None, 64)                8256      \n",
      "_________________________________________________________________\n",
      "dense_3 (Dense)              (None, 1)                 65        \n",
      "=================================================================\n",
      "Total params: 4,876,417\n",
      "Trainable params: 4,874,561\n",
      "Non-trainable params: 1,856\n",
      "_________________________________________________________________\n"
     ]
    }
   ],
   "source": [
    "S3DCNNModel = S3D_CNN((128,128,128,1))\n",
    "S3DCNNModel.summary()"
   ]
  },
  {
   "cell_type": "code",
   "execution_count": 4,
   "id": "043975a8-2ea1-43bf-9341-33563ac7eefc",
   "metadata": {},
   "outputs": [],
   "source": [
    "x_train = np.load(\"x_train.npy\")\n",
    "y_train = np.load(\"y_train.npy\")\n",
    "x_val = np.load(\"x_val.npy\")\n",
    "y_val = np.load(\"y_val.npy\")\n",
    "x_test = np.load(\"x_test.npy\")\n",
    "y_test =np.load(\"y_test.npy\")"
   ]
  },
  {
   "cell_type": "markdown",
   "id": "2d10339b-07fc-4be6-bb07-05f42dff154c",
   "metadata": {},
   "source": [
    "# Augumenting Data"
   ]
  },
  {
   "cell_type": "code",
   "execution_count": 5,
   "id": "c8dc5526-3d9f-4769-aa2b-70f5a6748644",
   "metadata": {},
   "outputs": [],
   "source": [
    "import random\n",
    "\n",
    "from scipy import ndimage\n",
    "\n",
    "\n",
    "@tf.function\n",
    "def rotate(volume):\n",
    "    \"\"\"Rotate the volume by a few degrees\"\"\"\n",
    "\n",
    "    def scipy_rotate(volume):\n",
    "        # define some rotation angles\n",
    "        angles = [-20, -10, -5, 5, 10, 20]\n",
    "        # pick angles at random\n",
    "        angle = random.choice(angles)\n",
    "        # rotate volume\n",
    "        volume = ndimage.rotate(volume, angle, reshape=False)\n",
    "        volume[volume < 0] = 0\n",
    "        volume[volume > 1] = 1\n",
    "        return volume\n",
    "\n",
    "    augmented_volume = tf.numpy_function(scipy_rotate, [volume], tf.float32)\n",
    "    return augmented_volume\n",
    "\n",
    "\n",
    "def train_preprocessing(volume, label):\n",
    "    \"\"\"Process training data by rotating and adding a channel.\"\"\"\n",
    "    # Rotate volume\n",
    "    #volume = rotate(volume)\n",
    "    return volume, label\n",
    "\n",
    "\n",
    "def test_preprocessing(volume, label):\n",
    "    \"\"\"Process validation data by only adding a channel.\"\"\"\n",
    "    return volume, label\n",
    "\n",
    "def validation_preprocessing(volume, label):\n",
    "    \"\"\"Process validation data by only adding a channel.\"\"\"\n",
    "    return volume, label\n"
   ]
  },
  {
   "cell_type": "code",
   "execution_count": 6,
   "id": "5572d6dc-9108-49a5-9ae2-7b5fb0e6385f",
   "metadata": {},
   "outputs": [],
   "source": [
    "# Define data loaders.\n",
    "train_loader = tf.data.Dataset.from_tensor_slices((x_train, y_train))\n",
    "validation_loader = tf.data.Dataset.from_tensor_slices((x_val, y_val))\n",
    "test_loader = tf.data.Dataset.from_tensor_slices((x_test, y_test))\n",
    "\n",
    "batch_size = 4\n",
    "# Augment the on the fly during training.\n",
    "train_dataset = (\n",
    "    train_loader.shuffle(len(x_train))\n",
    "    .map(train_preprocessing)\n",
    "    .batch(batch_size)\n",
    "    .prefetch(2)\n",
    ")\n",
    "# Only rescale.\n",
    "test_dataset = (\n",
    "    test_loader.shuffle(len(x_test))\n",
    "    .map(test_preprocessing)\n",
    "    .batch(batch_size)\n",
    "    .prefetch(2)\n",
    ")\n",
    "# Only rescale.\n",
    "validation_dataset = (\n",
    "    validation_loader.shuffle(len(x_val))\n",
    "    .map(validation_preprocessing)\n",
    "    .batch(batch_size)\n",
    "    .prefetch(2)\n",
    ")"
   ]
  },
  {
   "cell_type": "code",
   "execution_count": 10,
   "id": "86216267-7cfe-4139-a129-6ad757523201",
   "metadata": {},
   "outputs": [
    {
     "ename": "ValueError",
     "evalue": "Could not interpret optimizer identifier: <tensorflow.python.keras.optimizer_v2.adam.Adam object at 0x3539a1fa0>",
     "output_type": "error",
     "traceback": [
      "\u001b[0;31m---------------------------------------------------------------------------\u001b[0m",
      "\u001b[0;31mValueError\u001b[0m                                Traceback (most recent call last)",
      "Cell \u001b[0;32mIn[10], line 6\u001b[0m\n\u001b[1;32m      2\u001b[0m initial_learning_rate \u001b[39m=\u001b[39m \u001b[39m0.0001\u001b[39m\n\u001b[1;32m      3\u001b[0m lr_schedule \u001b[39m=\u001b[39m keras\u001b[39m.\u001b[39moptimizers\u001b[39m.\u001b[39mschedules\u001b[39m.\u001b[39mExponentialDecay(\n\u001b[1;32m      4\u001b[0m     initial_learning_rate, decay_steps\u001b[39m=\u001b[39m\u001b[39m100000\u001b[39m, decay_rate\u001b[39m=\u001b[39m\u001b[39m0.96\u001b[39m, staircase\u001b[39m=\u001b[39m\u001b[39mTrue\u001b[39;00m\n\u001b[1;32m      5\u001b[0m )\n\u001b[0;32m----> 6\u001b[0m S3DCNNModel\u001b[39m.\u001b[39;49mcompile(\n\u001b[1;32m      7\u001b[0m     loss\u001b[39m=\u001b[39;49m\u001b[39m\"\u001b[39;49m\u001b[39mbinary_crossentropy\u001b[39;49m\u001b[39m\"\u001b[39;49m,\n\u001b[1;32m      8\u001b[0m     optimizer\u001b[39m=\u001b[39;49mkeras\u001b[39m.\u001b[39;49moptimizers\u001b[39m.\u001b[39;49mAdam(learning_rate\u001b[39m=\u001b[39;49mlr_schedule),\n\u001b[1;32m      9\u001b[0m     metrics\u001b[39m=\u001b[39;49m[\u001b[39m\"\u001b[39;49m\u001b[39macc\u001b[39;49m\u001b[39m\"\u001b[39;49m],\n\u001b[1;32m     10\u001b[0m )\n\u001b[1;32m     12\u001b[0m \u001b[39m# Define callbacks.\u001b[39;00m\n\u001b[1;32m     13\u001b[0m checkpoint_cb \u001b[39m=\u001b[39m keras\u001b[39m.\u001b[39mcallbacks\u001b[39m.\u001b[39mModelCheckpoint(\n\u001b[1;32m     14\u001b[0m     \u001b[39m\"\u001b[39m\u001b[39mS3D_CNN.h5\u001b[39m\u001b[39m\"\u001b[39m, save_best_only\u001b[39m=\u001b[39m\u001b[39mTrue\u001b[39;00m\n\u001b[1;32m     15\u001b[0m )\n",
      "File \u001b[0;32m/opt/homebrew/Caskroom/miniforge/base/envs/tensorflow/lib/python3.9/site-packages/keras/engine/training.py:548\u001b[0m, in \u001b[0;36mModel.compile\u001b[0;34m(self, optimizer, loss, metrics, loss_weights, weighted_metrics, run_eagerly, steps_per_execution, **kwargs)\u001b[0m\n\u001b[1;32m    545\u001b[0m \u001b[39mself\u001b[39m\u001b[39m.\u001b[39m_validate_compile(optimizer, metrics, \u001b[39m*\u001b[39m\u001b[39m*\u001b[39mkwargs)\n\u001b[1;32m    546\u001b[0m \u001b[39mself\u001b[39m\u001b[39m.\u001b[39m_run_eagerly \u001b[39m=\u001b[39m run_eagerly\n\u001b[0;32m--> 548\u001b[0m \u001b[39mself\u001b[39m\u001b[39m.\u001b[39moptimizer \u001b[39m=\u001b[39m \u001b[39mself\u001b[39;49m\u001b[39m.\u001b[39;49m_get_optimizer(optimizer)\n\u001b[1;32m    549\u001b[0m \u001b[39mself\u001b[39m\u001b[39m.\u001b[39mcompiled_loss \u001b[39m=\u001b[39m compile_utils\u001b[39m.\u001b[39mLossesContainer(\n\u001b[1;32m    550\u001b[0m     loss, loss_weights, output_names\u001b[39m=\u001b[39m\u001b[39mself\u001b[39m\u001b[39m.\u001b[39moutput_names)\n\u001b[1;32m    551\u001b[0m \u001b[39mself\u001b[39m\u001b[39m.\u001b[39mcompiled_metrics \u001b[39m=\u001b[39m compile_utils\u001b[39m.\u001b[39mMetricsContainer(\n\u001b[1;32m    552\u001b[0m     metrics, weighted_metrics, output_names\u001b[39m=\u001b[39m\u001b[39mself\u001b[39m\u001b[39m.\u001b[39moutput_names,\n\u001b[1;32m    553\u001b[0m     from_serialized\u001b[39m=\u001b[39mfrom_serialized)\n",
      "File \u001b[0;32m/opt/homebrew/Caskroom/miniforge/base/envs/tensorflow/lib/python3.9/site-packages/keras/engine/training.py:586\u001b[0m, in \u001b[0;36mModel._get_optimizer\u001b[0;34m(self, optimizer)\u001b[0m\n\u001b[1;32m    583\u001b[0m       opt \u001b[39m=\u001b[39m lso\u001b[39m.\u001b[39mLossScaleOptimizerV1(opt, loss_scale)\n\u001b[1;32m    584\u001b[0m   \u001b[39mreturn\u001b[39;00m opt\n\u001b[0;32m--> 586\u001b[0m \u001b[39mreturn\u001b[39;00m tf\u001b[39m.\u001b[39;49mnest\u001b[39m.\u001b[39;49mmap_structure(_get_single_optimizer, optimizer)\n",
      "File \u001b[0;32m/opt/homebrew/Caskroom/miniforge/base/envs/tensorflow/lib/python3.9/site-packages/tensorflow/python/util/nest.py:867\u001b[0m, in \u001b[0;36mmap_structure\u001b[0;34m(func, *structure, **kwargs)\u001b[0m\n\u001b[1;32m    863\u001b[0m flat_structure \u001b[39m=\u001b[39m (flatten(s, expand_composites) \u001b[39mfor\u001b[39;00m s \u001b[39min\u001b[39;00m structure)\n\u001b[1;32m    864\u001b[0m entries \u001b[39m=\u001b[39m \u001b[39mzip\u001b[39m(\u001b[39m*\u001b[39mflat_structure)\n\u001b[1;32m    866\u001b[0m \u001b[39mreturn\u001b[39;00m pack_sequence_as(\n\u001b[0;32m--> 867\u001b[0m     structure[\u001b[39m0\u001b[39m], [func(\u001b[39m*\u001b[39mx) \u001b[39mfor\u001b[39;00m x \u001b[39min\u001b[39;00m entries],\n\u001b[1;32m    868\u001b[0m     expand_composites\u001b[39m=\u001b[39mexpand_composites)\n",
      "File \u001b[0;32m/opt/homebrew/Caskroom/miniforge/base/envs/tensorflow/lib/python3.9/site-packages/tensorflow/python/util/nest.py:867\u001b[0m, in \u001b[0;36m<listcomp>\u001b[0;34m(.0)\u001b[0m\n\u001b[1;32m    863\u001b[0m flat_structure \u001b[39m=\u001b[39m (flatten(s, expand_composites) \u001b[39mfor\u001b[39;00m s \u001b[39min\u001b[39;00m structure)\n\u001b[1;32m    864\u001b[0m entries \u001b[39m=\u001b[39m \u001b[39mzip\u001b[39m(\u001b[39m*\u001b[39mflat_structure)\n\u001b[1;32m    866\u001b[0m \u001b[39mreturn\u001b[39;00m pack_sequence_as(\n\u001b[0;32m--> 867\u001b[0m     structure[\u001b[39m0\u001b[39m], [func(\u001b[39m*\u001b[39;49mx) \u001b[39mfor\u001b[39;00m x \u001b[39min\u001b[39;00m entries],\n\u001b[1;32m    868\u001b[0m     expand_composites\u001b[39m=\u001b[39mexpand_composites)\n",
      "File \u001b[0;32m/opt/homebrew/Caskroom/miniforge/base/envs/tensorflow/lib/python3.9/site-packages/keras/engine/training.py:577\u001b[0m, in \u001b[0;36mModel._get_optimizer.<locals>._get_single_optimizer\u001b[0;34m(opt)\u001b[0m\n\u001b[1;32m    576\u001b[0m \u001b[39mdef\u001b[39;00m \u001b[39m_get_single_optimizer\u001b[39m(opt):\n\u001b[0;32m--> 577\u001b[0m   opt \u001b[39m=\u001b[39m optimizers\u001b[39m.\u001b[39;49mget(opt)\n\u001b[1;32m    578\u001b[0m   \u001b[39mif\u001b[39;00m (loss_scale \u001b[39mis\u001b[39;00m \u001b[39mnot\u001b[39;00m \u001b[39mNone\u001b[39;00m \u001b[39mand\u001b[39;00m\n\u001b[1;32m    579\u001b[0m       \u001b[39mnot\u001b[39;00m \u001b[39misinstance\u001b[39m(opt, lso\u001b[39m.\u001b[39mLossScaleOptimizer)):\n\u001b[1;32m    580\u001b[0m     \u001b[39mif\u001b[39;00m loss_scale \u001b[39m==\u001b[39m \u001b[39m'\u001b[39m\u001b[39mdynamic\u001b[39m\u001b[39m'\u001b[39m:\n",
      "File \u001b[0;32m/opt/homebrew/Caskroom/miniforge/base/envs/tensorflow/lib/python3.9/site-packages/keras/optimizers.py:132\u001b[0m, in \u001b[0;36mget\u001b[0;34m(identifier)\u001b[0m\n\u001b[1;32m    130\u001b[0m   \u001b[39mreturn\u001b[39;00m deserialize(config)\n\u001b[1;32m    131\u001b[0m \u001b[39melse\u001b[39;00m:\n\u001b[0;32m--> 132\u001b[0m   \u001b[39mraise\u001b[39;00m \u001b[39mValueError\u001b[39;00m(\n\u001b[1;32m    133\u001b[0m       \u001b[39m'\u001b[39m\u001b[39mCould not interpret optimizer identifier: \u001b[39m\u001b[39m{}\u001b[39;00m\u001b[39m'\u001b[39m\u001b[39m.\u001b[39mformat(identifier))\n",
      "\u001b[0;31mValueError\u001b[0m: Could not interpret optimizer identifier: <tensorflow.python.keras.optimizer_v2.adam.Adam object at 0x3539a1fa0>"
     ]
    }
   ],
   "source": [
    "# Compile model.\n",
    "initial_learning_rate = 0.0001\n",
    "lr_schedule = keras.optimizers.schedules.ExponentialDecay(\n",
    "    initial_learning_rate, decay_steps=100000, decay_rate=0.96, staircase=True\n",
    ")\n",
    "S3DCNNModel.compile(\n",
    "    loss=\"binary_crossentropy\",\n",
    "    optimizer=\"adam\"),\n",
    "    metrics=[\"acc\"],\n",
    ")\n",
    "\n",
    "# Define callbacks.\n",
    "checkpoint_cb = keras.callbacks.ModelCheckpoint(\n",
    "    \"S3D_CNN.h5\", save_best_only=True\n",
    ")\n",
    "early_stopping_cb = keras.callbacks.EarlyStopping(monitor=\"val_acc\", patience=15)\n",
    "\n",
    "# Train the model, doing validation at the end of each epoch\n",
    "epochs = 100\n",
    "S3DCNNModel.fit(\n",
    "    train_dataset,\n",
    "    validation_data=validation_dataset,\n",
    "    epochs=epochs,\n",
    "    shuffle=True,\n",
    "    verbose=2,\n",
    "    callbacks=[checkpoint_cb, early_stopping_cb],\n",
    ")\n",
    "    "
   ]
  },
  {
   "cell_type": "code",
   "execution_count": null,
   "id": "8235dfad-1cc2-4464-a43a-2cac1721cebe",
   "metadata": {},
   "outputs": [
    {
     "name": "stdout",
     "output_type": "stream",
     "text": [
      "This model is 6.86 percent confident that CT scan is CN\n",
      "This model is 93.14 percent confident that CT scan is AD\n"
     ]
    }
   ],
   "source": [
    "# Load best weights.\n",
    "S3DCNNModel.load_weights(\"S3D_CNN.h5\")\n",
    "prediction = S3DCNNModel.predict(np.expand_dims(x_val[0], axis=0))[0]\n",
    "scores = [1 - prediction[0], prediction[0]]\n",
    "\n",
    "class_names = [\"CN\", \"AD\"]\n",
    "for score, name in zip(scores, class_names):\n",
    "    print(\n",
    "        \"This model is %.2f percent confident that CT scan is %s\"\n",
    "        % ((100 * score), name)\n",
    "    )"
   ]
  },
  {
   "cell_type": "code",
   "execution_count": null,
   "id": "a85c6b4b-a87a-4075-8894-bc79ac024a11",
   "metadata": {},
   "outputs": [],
   "source": []
  },
  {
   "cell_type": "code",
   "execution_count": null,
   "id": "065619a3-1474-4007-ab3f-e7bc42bf1f65",
   "metadata": {},
   "outputs": [],
   "source": [
    "preds_test = []\n",
    "for i in range(0, len(x_test)):\n",
    "    preds_test.append(S3DCNNModel.predict(np.expand_dims(x_test[i], axis=0))[0][0])\n"
   ]
  },
  {
   "cell_type": "code",
   "execution_count": null,
   "id": "e630cda8-d9be-4166-8c6f-c54d678a2b83",
   "metadata": {},
   "outputs": [],
   "source": [
    "predictionlist = [1 if x>0.5 else 0 for x in preds_test]"
   ]
  },
  {
   "cell_type": "code",
   "execution_count": null,
   "id": "2f1621a1-5a61-46a3-af82-b83d53e5c7d6",
   "metadata": {},
   "outputs": [],
   "source": [
    "groundtruthlist = y_test.tolist()"
   ]
  },
  {
   "cell_type": "code",
   "execution_count": null,
   "id": "e7cfc0a9-897c-4f4f-b4e7-3920f44190a5",
   "metadata": {},
   "outputs": [],
   "source": [
    "from matplotlib import pyplot as plt\n",
    "from sklearn.metrics import confusion_matrix\n",
    "import itertools\n",
    "import matplotlib.pyplot as plt\n",
    "%matplotlib inline\n",
    "\n",
    "def plot_confusion_matrix(cm, classes,\n",
    "                          normalize=False,\n",
    "                          title='Confusion matrix',\n",
    "                          cmap=plt.cm.Blues):\n",
    "    \"\"\"\n",
    "    This function prints and plots the confusion matrix.\n",
    "    Normalization can be applied by setting `normalize=True`.\n",
    "    \"\"\"\n",
    "    if normalize:\n",
    "        cm = cm.astype('float') / cm.sum(axis=1)[:, np.newaxis]\n",
    "        print(\"Normalized confusion matrix\")\n",
    "    else:\n",
    "        print('Confusion matrix, without normalization')\n",
    "\n",
    "    print(cm)\n",
    "\n",
    "    plt.imshow(cm, interpolation='nearest', cmap=cmap)\n",
    "    plt.title(title)\n",
    "    plt.colorbar()\n",
    "    tick_marks = np.arange(len(classes))\n",
    "    plt.xticks(tick_marks, classes, rotation=45)\n",
    "    plt.yticks(tick_marks, classes)\n",
    "\n",
    "    fmt = '.2f' if normalize else 'd'\n",
    "    thresh = cm.max() / 2.\n",
    "    for i, j in itertools.product(range(cm.shape[0]), range(cm.shape[1])):\n",
    "        plt.text(j, i, format(cm[i, j], fmt),\n",
    "                 horizontalalignment=\"center\",\n",
    "                 color=\"white\" if cm[i, j] > thresh else \"black\")\n",
    "\n",
    "    plt.tight_layout()\n",
    "    plt.ylabel('True label')\n",
    "    plt.xlabel('Predicted label')"
   ]
  },
  {
   "cell_type": "code",
   "execution_count": null,
   "id": "34d7897f-b727-43b7-bf43-a52116ee7413",
   "metadata": {},
   "outputs": [],
   "source": [
    "cm = confusion_matrix(groundtruthlist, predictionlist)"
   ]
  },
  {
   "cell_type": "code",
   "execution_count": null,
   "id": "91b99a3b-8d54-492c-afee-4c2759ca772e",
   "metadata": {},
   "outputs": [
    {
     "name": "stdout",
     "output_type": "stream",
     "text": [
      "Confusion matrix, without normalization\n",
      "[[31  0]\n",
      " [ 9 12]]\n"
     ]
    },
    {
     "data": {
      "image/png": "[encoded data removed]",
      "text/plain": [
       "<Figure size 432x288 with 2 Axes>"
      ]
     },
     "metadata": {
      "needs_background": "light"
     },
     "output_type": "display_data"
    }
   ],
   "source": [
    "plot_confusion_matrix(cm,classes=[\"AD\",\"CN\"])"
   ]
  },
  {
   "cell_type": "code",
   "execution_count": null,
   "id": "7c2149b0-e3fc-4275-95f0-ebb8fd2c9496",
   "metadata": {},
   "outputs": [
    {
     "name": "stdout",
     "output_type": "stream",
     "text": [
      "0.8002560819462228\n",
      "1.0\n",
      "0.775\n",
      "0.5714285714285714\n",
      "1.0\n"
     ]
    }
   ],
   "source": [
    "from sklearn.metrics import f1_score, precision_score,recall_score\n",
    "print(f1_score(groundtruthlist, predictionlist, average='macro'))\n",
    "print(precision_score(groundtruthlist, predictionlist,pos_label=1))\n",
    "print(precision_score(groundtruthlist, predictionlist,pos_label=0))\n",
    "print(recall_score(groundtruthlist, predictionlist,pos_label=1))\n",
    "print(recall_score(groundtruthlist, predictionlist,pos_label=0))"
   ]
  },
  {
   "attachments": {},
   "cell_type": "markdown",
   "id": "53a8cebf-05a1-45ef-bc0d-87c246e8e189",
   "metadata": {},
   "source": [
    "## 2D MultiView Slice CNN"
   ]
  },
  {
   "cell_type": "code",
   "execution_count": null,
   "id": "6e733824",
   "metadata": {},
   "outputs": [
    {
     "ename": "NameError",
     "evalue": "name 'Input' is not defined",
     "output_type": "error",
     "traceback": [
      "\u001b[0;31m---------------------------------------------------------------------------\u001b[0m",
      "\u001b[0;31mNameError\u001b[0m                                 Traceback (most recent call last)",
      "Cell \u001b[0;32mIn[1], line 36\u001b[0m\n\u001b[1;32m     31\u001b[0m     model \u001b[39m=\u001b[39m Model(inputs\u001b[39m=\u001b[39m[inputs], outputs\u001b[39m=\u001b[39m[layer])\n\u001b[1;32m     34\u001b[0m     \u001b[39mreturn\u001b[39;00m model\n\u001b[0;32m---> 36\u001b[0m testModel \u001b[39m=\u001b[39m S2D_CNN_NETWORK((\u001b[39m128\u001b[39;49m,\u001b[39m128\u001b[39;49m,\u001b[39m1\u001b[39;49m), \u001b[39m1\u001b[39;49m)\n\u001b[1;32m     37\u001b[0m keras\u001b[39m.\u001b[39mutils\u001b[39m.\u001b[39mplot_model(testModel, show_shapes\u001b[39m=\u001b[39m\u001b[39mTrue\u001b[39;00m)\n",
      "Cell \u001b[0;32mIn[1], line 24\u001b[0m, in \u001b[0;36mS2D_CNN_NETWORK\u001b[0;34m(vol_size, num_slices)\u001b[0m\n\u001b[1;32m     23\u001b[0m \u001b[39mdef\u001b[39;00m \u001b[39mS2D_CNN_NETWORK\u001b[39m(vol_size, num_slices):\n\u001b[0;32m---> 24\u001b[0m     inputs \u001b[39m=\u001b[39m Input(shape\u001b[39m=\u001b[39mvol_size)\n\u001b[1;32m     25\u001b[0m     slice_networks \u001b[39m=\u001b[39m []\n\u001b[1;32m     26\u001b[0m     \u001b[39mfor\u001b[39;00m i \u001b[39min\u001b[39;00m \u001b[39mrange\u001b[39m(num_slices):\n",
      "\u001b[0;31mNameError\u001b[0m: name 'Input' is not defined"
     ]
    }
   ],
   "source": [
    "\n",
    "def myConv2DBlock(x_in, nf, strides=1, kernel_size = 3):\n",
    "    \"\"\"\n",
    "    specific convolution module including convolution followed by leakyrelu\n",
    "    \"\"\"\n",
    "    x_out = Conv2D(nf, kernel_size=3, padding='same',kernel_initializer='he_normal', strides=strides)(x_in)\n",
    "    x_out = BatchNormalization()(x_out)\n",
    "    x_out = LeakyReLU(0.2)(x_out)\n",
    "    x_out = MaxPooling2D(pool_size= (2,2),strides=2)(x_out)\n",
    "    return x_out\n",
    "\n",
    "# it looks like we will have many Slice level sub-networks so we can easily use a for loop to create as many as needed using this function\n",
    "def S2D_CNN_SLICE_SUB_NETWORK(vol_size):\n",
    "    inputs = Input(shape=vol_size)\n",
    "    layer = myConv2DBlock(inputs, nf = 8)  \n",
    "    layer = myConv2DBlock(layer, nf = 32)\n",
    "    layer = myConv2DBlock(layer, nf = 64)\n",
    "    layer = myConv2DBlock(layer, nf = 128)\n",
    "    layer = GlobalAveragePooling2D()(layer)\n",
    "        \n",
    "    return layer\n",
    "\n",
    "# lets make a function to create the Slice level sub-networks and then concatenate them\n",
    "def S2D_CNN_NETWORK(vol_size, num_slices):\n",
    "    inputs = Input(shape=vol_size)\n",
    "    slice_networks = []\n",
    "    for i in range(num_slices):\n",
    "        slice_networks.append(S2D_CNN_SLICE_SUB_NETWORK(vol_size))\n",
    "    layer = concatenate(slice_networks)\n",
    "    layer = Dense(128, activation='relu')(layer)\n",
    "    layer = Dense(8, activation='relu')(layer)\n",
    "    model = Model(inputs=[inputs], outputs=[layer])\n",
    "    \n",
    "\n",
    "    return model\n",
    "\n",
    "testModel = S2D_CNN_NETWORK((128,128,1), 1)\n",
    "keras.utils.plot_model(testModel, show_shapes=True)"
   ]
  },
  {
   "cell_type": "code",
   "execution_count": null,
   "id": "d3b4c63f",
   "metadata": {},
   "outputs": [],
   "source": []
  }
 ],
 "metadata": {
  "kernelspec": {
   "display_name": "Python 3.9 (tensorflow)",
   "language": "python",
   "name": "tensorflow"
  },
  "language_info": {
   "codemirror_mode": {
    "name": "ipython",
    "version": 3
   },
   "file_extension": ".py",
   "mimetype": "text/x-python",
   "name": "python",
   "nbconvert_exporter": "python",
   "pygments_lexer": "ipython3",
   "version": "3.9.13"
  }
 },
 "nbformat": 4,
 "nbformat_minor": 5
}
